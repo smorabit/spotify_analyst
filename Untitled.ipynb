{
 "cells": [
  {
   "cell_type": "code",
   "execution_count": 62,
   "metadata": {},
   "outputs": [],
   "source": [
    "import sys\n",
    "import spotipy\n",
    "import spotipy.util as util"
   ]
  },
  {
   "cell_type": "code",
   "execution_count": 71,
   "metadata": {},
   "outputs": [],
   "source": [
    "scope = 'user-top-read'\n",
    "\n",
    "username = \"smorabito\"\n",
    "\n",
    "token = util.prompt_for_user_token(\n",
    "    username,\n",
    "    scope,\n",
    "    client_id=\"02a638f434f6467bb95378d659996628\",\n",
    "    client_secret=\"17af84aa860c444cbadd36b8c9be4da2\",\n",
    "    redirect_uri=\"http://google.com/\"\n",
    ")\n",
    "\n",
    "sp = spotipy.Spotify(auth=token)"
   ]
  },
  {
   "cell_type": "code",
   "execution_count": 53,
   "metadata": {},
   "outputs": [],
   "source": [
    "top_artists = sp.current_user_top_artists(limit=100, offset=0, time_range='long_term')"
   ]
  },
  {
   "cell_type": "code",
   "execution_count": 76,
   "metadata": {},
   "outputs": [
    {
     "name": "stdout",
     "output_type": "stream",
     "text": [
      "short term\n",
      "medium term\n",
      "long term\n"
     ]
    }
   ],
   "source": [
    "terms = [\"short_term\", \"medium_term\", \"long_term\"]\n",
    "for term in terms:\n",
    "    print(\" \".join(term.split(\"_\")))\n",
    "    top10 = sp.current_user_top_artists(limit=10, offset=0, time_range=term)\n",
    "#top_artists = {\" \".join(term.split(\"_\")): [item['name'] for item in sp.current_user_top_artists(limit=10, offset=0, time_range=term)] for term in terms}\n"
   ]
  },
  {
   "cell_type": "code",
   "execution_count": 68,
   "metadata": {},
   "outputs": [
    {
     "name": "stdout",
     "output_type": "stream",
     "text": [
      "items\n",
      "total\n",
      "limit\n",
      "offset\n",
      "href\n",
      "previous\n",
      "next\n"
     ]
    }
   ],
   "source": [
    "for thing in top_artists:\n",
    "    print(thing)"
   ]
  },
  {
   "cell_type": "code",
   "execution_count": 61,
   "metadata": {},
   "outputs": [
    {
     "ename": "SpotifyException",
     "evalue": "http status: 400, code:-1 - https://api.spotify.com/v1/recommendations?limit=20&seed_artists=3YvQkjWJ5ykJVUNP7YbTy9%2C3Rq3YOF9YG9YfCWD4D56RZ%2C5rJVTTK0ucAxQhkUc0nXbH%2C6ZitSwtBSGqj00w11GvMU3%2C3ALVPmg5sZexSVD2m9atEt%2C3qyg72RGnGdF521zMU02u9%2C33qUIIydEBgWpe58IA0o61%2C1tTDgYGfcL19c6MiP3tPue%2C3zRstk92RGCVDyslSySNsm%2C6guC9FqvlVboSKTI77NG2k%2C2JFljHPanIjYy2QqfNYvC0%2C65qWysYTXcTL8nqZzg84Hk%2C5eAWCfyUhZtHHtBdNk56l1%2C7ptm7G8z8VVvwBnDq8fAmD%2C3cb9CRWtkBQNjVLQNLP9FE%2C5OsBRZAmBlShMPoGLCD3xp%2C75AKgMMrk1CG5sURNvyX9s%2C5ABfpj7Z00wfPiv2uW4MFm%2C70wFWaW7fhvs02Ccq1ZSZn%2C4NiJW4q9ichVqL1aUsgGAN%2C5uvVjg5SwNjvNE4w7HlGJC%2C7mN3Rz6MsJEn9tvScb3xXe%2C5ACBALsFxT5Ab3gVe8yyPs%2C68tKVjVvcqUfKFFLr2j0Ek%2C6z3BjfmgvDUIHaJ0UPTtrQ%2C4CyxMgnF71FyOWADVWxJRE%2C4psrqC3PJSJSNJ9Vmqj2ZK%2C5fuQrhMRYMtoO9uOlFad4P%2C6xbQZn9TJk1dM2htOjU3Sw%2C55GUoQ2E2hze3842bFs4bb%2C0l3jh35IjxJ86K0Lxl0PbQ%2C4rMxZovfLSDjEL9eI2pKo7%2C4I1DvdLsieFgvgYbr8NRfh%2C51lE580QM13Anmb3mK2j1e%2C7ENzCHnmJUr20nUjoZ0zZ1%2C3z8aGzEIL6yA1mFXNFf9E3%2C4YW1GDcW9hobRPMDi8v6XH%2C0nq64XZMWV1s7XHXIkdH7K%2C4ZIBrskTJWmkJUvM7uAu1o%2C5NXHXK6hOCotCF8lvGM1I0%2C0XblvrTo6mnHOxWIP1t5T6%2C7tH0WnMY4YhHtLPWxO1eMX%2C4tGd3HHlV4RVOdlBc5LAW3%2C5b7mJk1c5bqnnWsrELADq4%2C4pliqGKLKjF8vr9PXzNkog%2C5d0oJmM0pl53UfUTSnWl4E%2C5wFXmYsg3KFJ8BDsQudJ4f%2C6meTcQ79DrfkIuSLPZkpBg%2C7DHLWUbPofoFR1yRFfgL5a%2C037F47ssSrdRbjfhyVbxgY:\n invalid request",
     "output_type": "error",
     "traceback": [
      "\u001b[0;31m---------------------------------------------------------------------------\u001b[0m",
      "\u001b[0;31mHTTPError\u001b[0m                                 Traceback (most recent call last)",
      "\u001b[0;32m/anaconda3/lib/python3.6/site-packages/spotipy/client.py\u001b[0m in \u001b[0;36m_internal_call\u001b[0;34m(self, method, url, payload, params)\u001b[0m\n\u001b[1;32m    118\u001b[0m         \u001b[0;32mtry\u001b[0m\u001b[0;34m:\u001b[0m\u001b[0;34m\u001b[0m\u001b[0m\n\u001b[0;32m--> 119\u001b[0;31m             \u001b[0mr\u001b[0m\u001b[0;34m.\u001b[0m\u001b[0mraise_for_status\u001b[0m\u001b[0;34m(\u001b[0m\u001b[0;34m)\u001b[0m\u001b[0;34m\u001b[0m\u001b[0m\n\u001b[0m\u001b[1;32m    120\u001b[0m         \u001b[0;32mexcept\u001b[0m\u001b[0;34m:\u001b[0m\u001b[0;34m\u001b[0m\u001b[0m\n",
      "\u001b[0;32m/anaconda3/lib/python3.6/site-packages/requests/models.py\u001b[0m in \u001b[0;36mraise_for_status\u001b[0;34m(self)\u001b[0m\n\u001b[1;32m    934\u001b[0m         \u001b[0;32mif\u001b[0m \u001b[0mhttp_error_msg\u001b[0m\u001b[0;34m:\u001b[0m\u001b[0;34m\u001b[0m\u001b[0m\n\u001b[0;32m--> 935\u001b[0;31m             \u001b[0;32mraise\u001b[0m \u001b[0mHTTPError\u001b[0m\u001b[0;34m(\u001b[0m\u001b[0mhttp_error_msg\u001b[0m\u001b[0;34m,\u001b[0m \u001b[0mresponse\u001b[0m\u001b[0;34m=\u001b[0m\u001b[0mself\u001b[0m\u001b[0;34m)\u001b[0m\u001b[0;34m\u001b[0m\u001b[0m\n\u001b[0m\u001b[1;32m    936\u001b[0m \u001b[0;34m\u001b[0m\u001b[0m\n",
      "\u001b[0;31mHTTPError\u001b[0m: 400 Client Error: Bad Request for url: https://api.spotify.com/v1/recommendations?limit=20&seed_artists=3YvQkjWJ5ykJVUNP7YbTy9%2C3Rq3YOF9YG9YfCWD4D56RZ%2C5rJVTTK0ucAxQhkUc0nXbH%2C6ZitSwtBSGqj00w11GvMU3%2C3ALVPmg5sZexSVD2m9atEt%2C3qyg72RGnGdF521zMU02u9%2C33qUIIydEBgWpe58IA0o61%2C1tTDgYGfcL19c6MiP3tPue%2C3zRstk92RGCVDyslSySNsm%2C6guC9FqvlVboSKTI77NG2k%2C2JFljHPanIjYy2QqfNYvC0%2C65qWysYTXcTL8nqZzg84Hk%2C5eAWCfyUhZtHHtBdNk56l1%2C7ptm7G8z8VVvwBnDq8fAmD%2C3cb9CRWtkBQNjVLQNLP9FE%2C5OsBRZAmBlShMPoGLCD3xp%2C75AKgMMrk1CG5sURNvyX9s%2C5ABfpj7Z00wfPiv2uW4MFm%2C70wFWaW7fhvs02Ccq1ZSZn%2C4NiJW4q9ichVqL1aUsgGAN%2C5uvVjg5SwNjvNE4w7HlGJC%2C7mN3Rz6MsJEn9tvScb3xXe%2C5ACBALsFxT5Ab3gVe8yyPs%2C68tKVjVvcqUfKFFLr2j0Ek%2C6z3BjfmgvDUIHaJ0UPTtrQ%2C4CyxMgnF71FyOWADVWxJRE%2C4psrqC3PJSJSNJ9Vmqj2ZK%2C5fuQrhMRYMtoO9uOlFad4P%2C6xbQZn9TJk1dM2htOjU3Sw%2C55GUoQ2E2hze3842bFs4bb%2C0l3jh35IjxJ86K0Lxl0PbQ%2C4rMxZovfLSDjEL9eI2pKo7%2C4I1DvdLsieFgvgYbr8NRfh%2C51lE580QM13Anmb3mK2j1e%2C7ENzCHnmJUr20nUjoZ0zZ1%2C3z8aGzEIL6yA1mFXNFf9E3%2C4YW1GDcW9hobRPMDi8v6XH%2C0nq64XZMWV1s7XHXIkdH7K%2C4ZIBrskTJWmkJUvM7uAu1o%2C5NXHXK6hOCotCF8lvGM1I0%2C0XblvrTo6mnHOxWIP1t5T6%2C7tH0WnMY4YhHtLPWxO1eMX%2C4tGd3HHlV4RVOdlBc5LAW3%2C5b7mJk1c5bqnnWsrELADq4%2C4pliqGKLKjF8vr9PXzNkog%2C5d0oJmM0pl53UfUTSnWl4E%2C5wFXmYsg3KFJ8BDsQudJ4f%2C6meTcQ79DrfkIuSLPZkpBg%2C7DHLWUbPofoFR1yRFfgL5a%2C037F47ssSrdRbjfhyVbxgY",
      "\nDuring handling of the above exception, another exception occurred:\n",
      "\u001b[0;31mSpotifyException\u001b[0m                          Traceback (most recent call last)",
      "\u001b[0;32m<ipython-input-61-6470a89617ae>\u001b[0m in \u001b[0;36m<module>\u001b[0;34m()\u001b[0m\n\u001b[1;32m      3\u001b[0m \u001b[0;34m\u001b[0m\u001b[0m\n\u001b[1;32m      4\u001b[0m recs = sp.recommendations(\n\u001b[0;32m----> 5\u001b[0;31m     \u001b[0mseed_artists\u001b[0m \u001b[0;34m=\u001b[0m \u001b[0mtop_ids\u001b[0m\u001b[0;34m\u001b[0m\u001b[0m\n\u001b[0m\u001b[1;32m      6\u001b[0m )\n",
      "\u001b[0;32m/anaconda3/lib/python3.6/site-packages/spotipy/client.py\u001b[0m in \u001b[0;36mrecommendations\u001b[0;34m(self, seed_artists, seed_genres, seed_tracks, limit, country, **kwargs)\u001b[0m\n\u001b[1;32m    802\u001b[0m                 \u001b[0;32mif\u001b[0m \u001b[0mparam\u001b[0m \u001b[0;32min\u001b[0m \u001b[0mkwargs\u001b[0m\u001b[0;34m:\u001b[0m\u001b[0;34m\u001b[0m\u001b[0m\n\u001b[1;32m    803\u001b[0m                     \u001b[0mparams\u001b[0m\u001b[0;34m[\u001b[0m\u001b[0mparam\u001b[0m\u001b[0;34m]\u001b[0m \u001b[0;34m=\u001b[0m \u001b[0mkwargs\u001b[0m\u001b[0;34m[\u001b[0m\u001b[0mparam\u001b[0m\u001b[0;34m]\u001b[0m\u001b[0;34m\u001b[0m\u001b[0m\n\u001b[0;32m--> 804\u001b[0;31m         \u001b[0;32mreturn\u001b[0m \u001b[0mself\u001b[0m\u001b[0;34m.\u001b[0m\u001b[0m_get\u001b[0m\u001b[0;34m(\u001b[0m\u001b[0;34m'recommendations'\u001b[0m\u001b[0;34m,\u001b[0m \u001b[0;34m**\u001b[0m\u001b[0mparams\u001b[0m\u001b[0;34m)\u001b[0m\u001b[0;34m\u001b[0m\u001b[0m\n\u001b[0m\u001b[1;32m    805\u001b[0m \u001b[0;34m\u001b[0m\u001b[0m\n\u001b[1;32m    806\u001b[0m     \u001b[0;32mdef\u001b[0m \u001b[0mrecommendation_genre_seeds\u001b[0m\u001b[0;34m(\u001b[0m\u001b[0mself\u001b[0m\u001b[0;34m)\u001b[0m\u001b[0;34m:\u001b[0m\u001b[0;34m\u001b[0m\u001b[0m\n",
      "\u001b[0;32m/anaconda3/lib/python3.6/site-packages/spotipy/client.py\u001b[0m in \u001b[0;36m_get\u001b[0;34m(self, url, args, payload, **kwargs)\u001b[0m\n\u001b[1;32m    144\u001b[0m         \u001b[0;32mwhile\u001b[0m \u001b[0mretries\u001b[0m \u001b[0;34m>\u001b[0m \u001b[0;36m0\u001b[0m\u001b[0;34m:\u001b[0m\u001b[0;34m\u001b[0m\u001b[0m\n\u001b[1;32m    145\u001b[0m             \u001b[0;32mtry\u001b[0m\u001b[0;34m:\u001b[0m\u001b[0;34m\u001b[0m\u001b[0m\n\u001b[0;32m--> 146\u001b[0;31m                 \u001b[0;32mreturn\u001b[0m \u001b[0mself\u001b[0m\u001b[0;34m.\u001b[0m\u001b[0m_internal_call\u001b[0m\u001b[0;34m(\u001b[0m\u001b[0;34m'GET'\u001b[0m\u001b[0;34m,\u001b[0m \u001b[0murl\u001b[0m\u001b[0;34m,\u001b[0m \u001b[0mpayload\u001b[0m\u001b[0;34m,\u001b[0m \u001b[0mkwargs\u001b[0m\u001b[0;34m)\u001b[0m\u001b[0;34m\u001b[0m\u001b[0m\n\u001b[0m\u001b[1;32m    147\u001b[0m             \u001b[0;32mexcept\u001b[0m \u001b[0mSpotifyException\u001b[0m \u001b[0;32mas\u001b[0m \u001b[0me\u001b[0m\u001b[0;34m:\u001b[0m\u001b[0;34m\u001b[0m\u001b[0m\n\u001b[1;32m    148\u001b[0m                 \u001b[0mretries\u001b[0m \u001b[0;34m-=\u001b[0m \u001b[0;36m1\u001b[0m\u001b[0;34m\u001b[0m\u001b[0m\n",
      "\u001b[0;32m/anaconda3/lib/python3.6/site-packages/spotipy/client.py\u001b[0m in \u001b[0;36m_internal_call\u001b[0;34m(self, method, url, payload, params)\u001b[0m\n\u001b[1;32m    122\u001b[0m                 raise SpotifyException(r.status_code,\n\u001b[1;32m    123\u001b[0m                     \u001b[0;34m-\u001b[0m\u001b[0;36m1\u001b[0m\u001b[0;34m,\u001b[0m \u001b[0;34m'%s:\\n %s'\u001b[0m \u001b[0;34m%\u001b[0m \u001b[0;34m(\u001b[0m\u001b[0mr\u001b[0m\u001b[0;34m.\u001b[0m\u001b[0murl\u001b[0m\u001b[0;34m,\u001b[0m \u001b[0mr\u001b[0m\u001b[0;34m.\u001b[0m\u001b[0mjson\u001b[0m\u001b[0;34m(\u001b[0m\u001b[0;34m)\u001b[0m\u001b[0;34m[\u001b[0m\u001b[0;34m'error'\u001b[0m\u001b[0;34m]\u001b[0m\u001b[0;34m[\u001b[0m\u001b[0;34m'message'\u001b[0m\u001b[0;34m]\u001b[0m\u001b[0;34m)\u001b[0m\u001b[0;34m,\u001b[0m\u001b[0;34m\u001b[0m\u001b[0m\n\u001b[0;32m--> 124\u001b[0;31m                     headers=r.headers)\n\u001b[0m\u001b[1;32m    125\u001b[0m             \u001b[0;32melse\u001b[0m\u001b[0;34m:\u001b[0m\u001b[0;34m\u001b[0m\u001b[0m\n\u001b[1;32m    126\u001b[0m                 raise SpotifyException(r.status_code,\n",
      "\u001b[0;31mSpotifyException\u001b[0m: http status: 400, code:-1 - https://api.spotify.com/v1/recommendations?limit=20&seed_artists=3YvQkjWJ5ykJVUNP7YbTy9%2C3Rq3YOF9YG9YfCWD4D56RZ%2C5rJVTTK0ucAxQhkUc0nXbH%2C6ZitSwtBSGqj00w11GvMU3%2C3ALVPmg5sZexSVD2m9atEt%2C3qyg72RGnGdF521zMU02u9%2C33qUIIydEBgWpe58IA0o61%2C1tTDgYGfcL19c6MiP3tPue%2C3zRstk92RGCVDyslSySNsm%2C6guC9FqvlVboSKTI77NG2k%2C2JFljHPanIjYy2QqfNYvC0%2C65qWysYTXcTL8nqZzg84Hk%2C5eAWCfyUhZtHHtBdNk56l1%2C7ptm7G8z8VVvwBnDq8fAmD%2C3cb9CRWtkBQNjVLQNLP9FE%2C5OsBRZAmBlShMPoGLCD3xp%2C75AKgMMrk1CG5sURNvyX9s%2C5ABfpj7Z00wfPiv2uW4MFm%2C70wFWaW7fhvs02Ccq1ZSZn%2C4NiJW4q9ichVqL1aUsgGAN%2C5uvVjg5SwNjvNE4w7HlGJC%2C7mN3Rz6MsJEn9tvScb3xXe%2C5ACBALsFxT5Ab3gVe8yyPs%2C68tKVjVvcqUfKFFLr2j0Ek%2C6z3BjfmgvDUIHaJ0UPTtrQ%2C4CyxMgnF71FyOWADVWxJRE%2C4psrqC3PJSJSNJ9Vmqj2ZK%2C5fuQrhMRYMtoO9uOlFad4P%2C6xbQZn9TJk1dM2htOjU3Sw%2C55GUoQ2E2hze3842bFs4bb%2C0l3jh35IjxJ86K0Lxl0PbQ%2C4rMxZovfLSDjEL9eI2pKo7%2C4I1DvdLsieFgvgYbr8NRfh%2C51lE580QM13Anmb3mK2j1e%2C7ENzCHnmJUr20nUjoZ0zZ1%2C3z8aGzEIL6yA1mFXNFf9E3%2C4YW1GDcW9hobRPMDi8v6XH%2C0nq64XZMWV1s7XHXIkdH7K%2C4ZIBrskTJWmkJUvM7uAu1o%2C5NXHXK6hOCotCF8lvGM1I0%2C0XblvrTo6mnHOxWIP1t5T6%2C7tH0WnMY4YhHtLPWxO1eMX%2C4tGd3HHlV4RVOdlBc5LAW3%2C5b7mJk1c5bqnnWsrELADq4%2C4pliqGKLKjF8vr9PXzNkog%2C5d0oJmM0pl53UfUTSnWl4E%2C5wFXmYsg3KFJ8BDsQudJ4f%2C6meTcQ79DrfkIuSLPZkpBg%2C7DHLWUbPofoFR1yRFfgL5a%2C037F47ssSrdRbjfhyVbxgY:\n invalid request"
     ]
    }
   ],
   "source": [
    "#make recommendations based on your top 20 artists:\n",
    "top_ids = [item[\"id\"] for item in top_artists['items']]\n",
    "\n"
   ]
  },
  {
   "cell_type": "code",
   "execution_count": null,
   "metadata": {},
   "outputs": [],
   "source": []
  }
 ],
 "metadata": {
  "kernelspec": {
   "display_name": "Python 3",
   "language": "python",
   "name": "python3"
  },
  "language_info": {
   "codemirror_mode": {
    "name": "ipython",
    "version": 3
   },
   "file_extension": ".py",
   "mimetype": "text/x-python",
   "name": "python",
   "nbconvert_exporter": "python",
   "pygments_lexer": "ipython3",
   "version": "3.6.4"
  }
 },
 "nbformat": 4,
 "nbformat_minor": 2
}
